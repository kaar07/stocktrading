{
 "cells": [
  {
   "cell_type": "code",
   "execution_count": null,
   "id": "c76bf205",
   "metadata": {},
   "outputs": [],
   "source": [
    "import pandas as pd\n",
    "import numpy as np\n",
    "from matplotlib import pyplot as plt\n",
    "import csv"
   ]
  },
  {
   "cell_type": "code",
   "execution_count": null,
   "id": "2297733c",
   "metadata": {},
   "outputs": [],
   "source": [
    "data = pd.read_csv(\"misonly.csv\")\n",
    "data.head()"
   ]
  },
  {
   "cell_type": "code",
   "execution_count": null,
   "id": "c7dc01aa",
   "metadata": {},
   "outputs": [],
   "source": [
    "counts = data[\"STOCK\"].value_counts()"
   ]
  },
  {
   "cell_type": "code",
   "execution_count": null,
   "id": "c19ca67a",
   "metadata": {},
   "outputs": [],
   "source": [
    "from collections import defaultdict"
   ]
  },
  {
   "cell_type": "code",
   "execution_count": null,
   "id": "8fd83c28",
   "metadata": {},
   "outputs": [],
   "source": [
    "def orderpl(data):\n",
    "    gains = defaultdict(lambda:0)\n",
    "    for i in range(len(data)):\n",
    "        gains[str(data.iloc[i][\"STOCK\"]).strip(\" \")] += data.iloc[i][\"ESTIMATEDPL\"]\n",
    "    for key in sorted(gains.keys(),key=lambda x:gains[x],reverse=True):\n",
    "        print(key,gains[key])\n",
    "\n",
    "def orderiper(data):\n",
    "    iper = defaultdict(lambda:0)\n",
    "    count = defaultdict(lambda:0)\n",
    "    for i in range(len(data)):\n",
    "        iper[str(data.iloc[i][\"STOCK\"]).strip(\" \")] += data.iloc[i][\"%INTRA-GAIN\"]\n",
    "        count[str(data.iloc[i][\"STOCK\"].strip(\" \"))] += 1\n",
    "    for key in sorted(iper.keys(),key=lambda x:iper[x]/count[x],reverse=True):\n",
    "        print(key,iper[key]/count[key])\n",
    "orderpl(data)\n",
    "print(\"\")\n",
    "orderiper(data)"
   ]
  },
  {
   "cell_type": "code",
   "execution_count": null,
   "id": "8a2796af",
   "metadata": {},
   "outputs": [],
   "source": [
    "def daywisegains(data):\n",
    "    gainofdate = defaultdict(lambda:0)\n",
    "    for i in range(len(data)):\n",
    "        gainofdate[str(data.iloc[i][\"DATE\"])] += data.iloc[i][\"ESTIMATEDPL\"]\n",
    "    total = 0\n",
    "    pday = 0\n",
    "    lday = 0\n",
    "    highest = 0\n",
    "    lowest = 0\n",
    "    for key,value in gainofdate.items():\n",
    "        print(key,value)\n",
    "        highest = max(highest,value)\n",
    "        lowest = min(lowest,value)\n",
    "        total += value\n",
    "        if(value<0):\n",
    "            lday += 1\n",
    "        else:\n",
    "            pday += 1\n",
    "    print(\"\\n------------------------------------\\n\")    \n",
    "    print(f\"Total net gain inclusive of all estimated p/l: {total}\")\n",
    "    print(f\"Days with profits: {pday}\")\n",
    "    print(f\"Days with losses: {lday}\")\n",
    "    print(f\"Average gain/loss per day: {total/(pday+lday)}\")\n",
    "    print(f\"Most gain: {highest}\")\n",
    "    print(f\"Most loss: {lowest}\")"
   ]
  },
  {
   "cell_type": "markdown",
   "id": "80080768",
   "metadata": {},
   "source": [
    "## Daywise data"
   ]
  },
  {
   "cell_type": "code",
   "execution_count": null,
   "id": "1120d4b4",
   "metadata": {
    "scrolled": true
   },
   "outputs": [],
   "source": [
    "daywisegains(data)"
   ]
  }
 ],
 "metadata": {
  "kernelspec": {
   "display_name": "Python 3",
   "language": "python",
   "name": "python3"
  },
  "language_info": {
   "codemirror_mode": {
    "name": "ipython",
    "version": 3
   },
   "file_extension": ".py",
   "mimetype": "text/x-python",
   "name": "python",
   "nbconvert_exporter": "python",
   "pygments_lexer": "ipython3",
   "version": "3.8.8"
  }
 },
 "nbformat": 4,
 "nbformat_minor": 5
}
