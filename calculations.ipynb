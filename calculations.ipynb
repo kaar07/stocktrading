{
 "cells": [
  {
   "cell_type": "markdown",
   "id": "0bca8171",
   "metadata": {},
   "source": [
    "# Calculations and Estimations\n"
   ]
  },
  {
   "cell_type": "markdown",
   "id": "f62b7bf3",
   "metadata": {},
   "source": [
    "Charges calculated are applicable for NSE/BSE stock trading through Zerodha.\n",
    "Last updated as per information available on 18th September 2021 at https://zerodha.com/charges/#tab-equities"
   ]
  },
  {
   "cell_type": "code",
   "execution_count": null,
   "id": "be7204f3",
   "metadata": {},
   "outputs": [],
   "source": [
    "\n",
    "def aftercharges(buy,sell,units):\n",
    "    turnover = units*(buy+sell)\n",
    "    brokerage = min(round(turnover*0.0003,2),40)\n",
    "    stt = round(units*sell*0.00025,2)\n",
    "    transcharges = round(turnover*0.0000345,2)\n",
    "    gst = round((brokerage+transcharges)*0.18,2)\n",
    "    sebi = round(turnover*0.000001,2)\n",
    "    stamp = round(units*buy*0.00003,2)\n",
    "    return (round((sell-buy)*units - brokerage - stt - transcharges - gst - sebi - stamp,2))\n",
    "\n",
    "def intradaycalc():\n",
    "    buying = float(input(\"Enter the buying prices: \"))\n",
    "    selling = float(input(\"Enter the selling price: \"))\n",
    "    units = int(input(\"Enter the number of units: \"))\n",
    "    print(f\"Your net gains would be: {aftercharges(buying,selling,units)}\")\n",
    "    \n",
    "    \n",
    "\n",
    "def find(capital,capital_a,share_price,marginperstock):\n",
    "    total_required_gain = capital * 0.01\n",
    "    units_purchasable = (capital_a*marginperstock) // share_price\n",
    "    per_unit = total_required_gain / units_purchasable\n",
    "    print(f\"To make 1%, the percentage change in stock should be {100*(per_unit/share_price)}%\")\n",
    "    print(f\"You should buy at {share_price} and sell at {per_unit + share_price}\")\n",
    "    \n"
   ]
  },
  {
   "cell_type": "code",
   "execution_count": null,
   "id": "28ce08e6",
   "metadata": {},
   "outputs": [],
   "source": [
    "find(10000,5000,50,5)"
   ]
  },
  {
   "cell_type": "code",
   "execution_count": null,
   "id": "d01dc2f6",
   "metadata": {},
   "outputs": [],
   "source": [
    "intradaycalc()"
   ]
  }
 ],
 "metadata": {
  "kernelspec": {
   "display_name": "Python 3",
   "language": "python",
   "name": "python3"
  },
  "language_info": {
   "codemirror_mode": {
    "name": "ipython",
    "version": 3
   },
   "file_extension": ".py",
   "mimetype": "text/x-python",
   "name": "python",
   "nbconvert_exporter": "python",
   "pygments_lexer": "ipython3",
   "version": "3.8.8"
  }
 },
 "nbformat": 4,
 "nbformat_minor": 5
}
